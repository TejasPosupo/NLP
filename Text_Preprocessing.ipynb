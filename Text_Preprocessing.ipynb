{
 "cells": [
  {
   "cell_type": "code",
   "execution_count": 70,
   "id": "fb973b49",
   "metadata": {
    "ExecuteTime": {
     "end_time": "2023-04-25T06:44:59.799496Z",
     "start_time": "2023-04-25T06:44:59.780496Z"
    }
   },
   "outputs": [],
   "source": [
    "import pandas as pd"
   ]
  },
  {
   "cell_type": "code",
   "execution_count": 71,
   "id": "7bfb133b",
   "metadata": {
    "ExecuteTime": {
     "end_time": "2023-04-25T06:45:01.322495Z",
     "start_time": "2023-04-25T06:44:59.802496Z"
    }
   },
   "outputs": [],
   "source": [
    "df = pd.read_csv('IMDB Dataset.csv')"
   ]
  },
  {
   "cell_type": "code",
   "execution_count": 72,
   "id": "b166a957",
   "metadata": {
    "ExecuteTime": {
     "end_time": "2023-04-25T06:45:01.384496Z",
     "start_time": "2023-04-25T06:45:01.358498Z"
    }
   },
   "outputs": [
    {
     "data": {
      "text/html": [
       "<div>\n",
       "<style scoped>\n",
       "    .dataframe tbody tr th:only-of-type {\n",
       "        vertical-align: middle;\n",
       "    }\n",
       "\n",
       "    .dataframe tbody tr th {\n",
       "        vertical-align: top;\n",
       "    }\n",
       "\n",
       "    .dataframe thead th {\n",
       "        text-align: right;\n",
       "    }\n",
       "</style>\n",
       "<table border=\"1\" class=\"dataframe\">\n",
       "  <thead>\n",
       "    <tr style=\"text-align: right;\">\n",
       "      <th></th>\n",
       "      <th>review</th>\n",
       "      <th>sentiment</th>\n",
       "    </tr>\n",
       "  </thead>\n",
       "  <tbody>\n",
       "    <tr>\n",
       "      <th>0</th>\n",
       "      <td>One of the other reviewers has mentioned that ...</td>\n",
       "      <td>positive</td>\n",
       "    </tr>\n",
       "    <tr>\n",
       "      <th>1</th>\n",
       "      <td>A wonderful little production. &lt;br /&gt;&lt;br /&gt;The...</td>\n",
       "      <td>positive</td>\n",
       "    </tr>\n",
       "    <tr>\n",
       "      <th>2</th>\n",
       "      <td>I thought this was a wonderful way to spend ti...</td>\n",
       "      <td>positive</td>\n",
       "    </tr>\n",
       "    <tr>\n",
       "      <th>3</th>\n",
       "      <td>Basically there's a family where a little boy ...</td>\n",
       "      <td>negative</td>\n",
       "    </tr>\n",
       "    <tr>\n",
       "      <th>4</th>\n",
       "      <td>Petter Mattei's \"Love in the Time of Money\" is...</td>\n",
       "      <td>positive</td>\n",
       "    </tr>\n",
       "  </tbody>\n",
       "</table>\n",
       "</div>"
      ],
      "text/plain": [
       "                                              review sentiment\n",
       "0  One of the other reviewers has mentioned that ...  positive\n",
       "1  A wonderful little production. <br /><br />The...  positive\n",
       "2  I thought this was a wonderful way to spend ti...  positive\n",
       "3  Basically there's a family where a little boy ...  negative\n",
       "4  Petter Mattei's \"Love in the Time of Money\" is...  positive"
      ]
     },
     "execution_count": 72,
     "metadata": {},
     "output_type": "execute_result"
    }
   ],
   "source": [
    "df.head()"
   ]
  },
  {
   "cell_type": "code",
   "execution_count": 73,
   "id": "92a11594",
   "metadata": {
    "ExecuteTime": {
     "end_time": "2023-04-25T06:45:01.399496Z",
     "start_time": "2023-04-25T06:45:01.391497Z"
    }
   },
   "outputs": [
    {
     "data": {
      "text/plain": [
       "\"Basically there's a family where a little boy (Jake) thinks there's a zombie in his closet & his parents are fighting all the time.<br /><br />This movie is slower than a soap opera... and suddenly, Jake decides to become Rambo and kill the zombie.<br /><br />OK, first of all when you're going to make a film you must Decide if its a thriller or a drama! As a drama the movie is watchable. Parents are divorcing & arguing like in real life. And then we have Jake with his closet which totally ruins all the film! I expected to see a BOOGEYMAN similar movie, and instead i watched a drama with some meaningless thriller spots.<br /><br />3 out of 10 just for the well playing parents & descent dialogs. As for the shots with Jake: just ignore them.\""
      ]
     },
     "execution_count": 73,
     "metadata": {},
     "output_type": "execute_result"
    }
   ],
   "source": [
    "df['review'][3]"
   ]
  },
  {
   "cell_type": "markdown",
   "id": "b93a8834",
   "metadata": {},
   "source": [
    "# Lower_casing"
   ]
  },
  {
   "cell_type": "code",
   "execution_count": 74,
   "id": "9745b79d",
   "metadata": {
    "ExecuteTime": {
     "end_time": "2023-04-25T06:45:01.430495Z",
     "start_time": "2023-04-25T06:45:01.403496Z"
    }
   },
   "outputs": [
    {
     "data": {
      "text/plain": [
       "\"basically there's a family where a little boy (jake) thinks there's a zombie in his closet & his parents are fighting all the time.<br /><br />this movie is slower than a soap opera... and suddenly, jake decides to become rambo and kill the zombie.<br /><br />ok, first of all when you're going to make a film you must decide if its a thriller or a drama! as a drama the movie is watchable. parents are divorcing & arguing like in real life. and then we have jake with his closet which totally ruins all the film! i expected to see a boogeyman similar movie, and instead i watched a drama with some meaningless thriller spots.<br /><br />3 out of 10 just for the well playing parents & descent dialogs. as for the shots with jake: just ignore them.\""
      ]
     },
     "execution_count": 74,
     "metadata": {},
     "output_type": "execute_result"
    }
   ],
   "source": [
    "df['review'][3].lower()"
   ]
  },
  {
   "cell_type": "markdown",
   "id": "06d25dd9",
   "metadata": {},
   "source": [
    "## applying lower function"
   ]
  },
  {
   "cell_type": "code",
   "execution_count": 75,
   "id": "0a3bbf83",
   "metadata": {
    "ExecuteTime": {
     "end_time": "2023-04-25T06:45:01.746008Z",
     "start_time": "2023-04-25T06:45:01.434496Z"
    }
   },
   "outputs": [],
   "source": [
    "df['review'] = df['review'].str.lower()"
   ]
  },
  {
   "cell_type": "code",
   "execution_count": 76,
   "id": "26f43252",
   "metadata": {
    "ExecuteTime": {
     "end_time": "2023-04-25T06:45:01.777507Z",
     "start_time": "2023-04-25T06:45:01.749506Z"
    }
   },
   "outputs": [
    {
     "data": {
      "text/html": [
       "<div>\n",
       "<style scoped>\n",
       "    .dataframe tbody tr th:only-of-type {\n",
       "        vertical-align: middle;\n",
       "    }\n",
       "\n",
       "    .dataframe tbody tr th {\n",
       "        vertical-align: top;\n",
       "    }\n",
       "\n",
       "    .dataframe thead th {\n",
       "        text-align: right;\n",
       "    }\n",
       "</style>\n",
       "<table border=\"1\" class=\"dataframe\">\n",
       "  <thead>\n",
       "    <tr style=\"text-align: right;\">\n",
       "      <th></th>\n",
       "      <th>review</th>\n",
       "      <th>sentiment</th>\n",
       "    </tr>\n",
       "  </thead>\n",
       "  <tbody>\n",
       "    <tr>\n",
       "      <th>0</th>\n",
       "      <td>one of the other reviewers has mentioned that ...</td>\n",
       "      <td>positive</td>\n",
       "    </tr>\n",
       "    <tr>\n",
       "      <th>1</th>\n",
       "      <td>a wonderful little production. &lt;br /&gt;&lt;br /&gt;the...</td>\n",
       "      <td>positive</td>\n",
       "    </tr>\n",
       "    <tr>\n",
       "      <th>2</th>\n",
       "      <td>i thought this was a wonderful way to spend ti...</td>\n",
       "      <td>positive</td>\n",
       "    </tr>\n",
       "    <tr>\n",
       "      <th>3</th>\n",
       "      <td>basically there's a family where a little boy ...</td>\n",
       "      <td>negative</td>\n",
       "    </tr>\n",
       "    <tr>\n",
       "      <th>4</th>\n",
       "      <td>petter mattei's \"love in the time of money\" is...</td>\n",
       "      <td>positive</td>\n",
       "    </tr>\n",
       "  </tbody>\n",
       "</table>\n",
       "</div>"
      ],
      "text/plain": [
       "                                              review sentiment\n",
       "0  one of the other reviewers has mentioned that ...  positive\n",
       "1  a wonderful little production. <br /><br />the...  positive\n",
       "2  i thought this was a wonderful way to spend ti...  positive\n",
       "3  basically there's a family where a little boy ...  negative\n",
       "4  petter mattei's \"love in the time of money\" is...  positive"
      ]
     },
     "execution_count": 76,
     "metadata": {},
     "output_type": "execute_result"
    }
   ],
   "source": [
    "df.head()"
   ]
  },
  {
   "cell_type": "markdown",
   "id": "a3edf2d6",
   "metadata": {},
   "source": [
    "## Removal of HTML Tags"
   ]
  },
  {
   "cell_type": "code",
   "execution_count": 77,
   "id": "44760299",
   "metadata": {
    "ExecuteTime": {
     "end_time": "2023-04-25T06:45:01.812508Z",
     "start_time": "2023-04-25T06:45:01.782506Z"
    },
    "scrolled": true
   },
   "outputs": [],
   "source": [
    "text = df['review'][3]"
   ]
  },
  {
   "cell_type": "code",
   "execution_count": 78,
   "id": "054fadca",
   "metadata": {
    "ExecuteTime": {
     "end_time": "2023-04-25T06:45:01.887530Z",
     "start_time": "2023-04-25T06:45:01.820507Z"
    }
   },
   "outputs": [
    {
     "data": {
      "text/plain": [
       "\"basically there's a family where a little boy (jake) thinks there's a zombie in his closet & his parents are fighting all the time.this movie is slower than a soap opera... and suddenly, jake decides to become rambo and kill the zombie.ok, first of all when you're going to make a film you must decide if its a thriller or a drama! as a drama the movie is watchable. parents are divorcing & arguing like in real life. and then we have jake with his closet which totally ruins all the film! i expected to see a boogeyman similar movie, and instead i watched a drama with some meaningless thriller spots.3 out of 10 just for the well playing parents & descent dialogs. as for the shots with jake: just ignore them.\""
      ]
     },
     "execution_count": 78,
     "metadata": {},
     "output_type": "execute_result"
    }
   ],
   "source": [
    "import re\n",
    "\n",
    "def removing_HTML_Tags(text):\n",
    "    pattern = re.compile('<.*?>')\n",
    "    return pattern.sub(r'',text)\n",
    "removing_HTML_Tags(text)"
   ]
  },
  {
   "cell_type": "code",
   "execution_count": 79,
   "id": "1a3bd15f",
   "metadata": {
    "ExecuteTime": {
     "end_time": "2023-04-25T06:45:01.903530Z",
     "start_time": "2023-04-25T06:45:01.896531Z"
    }
   },
   "outputs": [
    {
     "data": {
      "text/plain": [
       "\"basically there's a family where a little boy (jake) thinks there's a zombie in his closet & his parents are fighting all the time.<br /><br />this movie is slower than a soap opera... and suddenly, jake decides to become rambo and kill the zombie.<br /><br />ok, first of all when you're going to make a film you must decide if its a thriller or a drama! as a drama the movie is watchable. parents are divorcing & arguing like in real life. and then we have jake with his closet which totally ruins all the film! i expected to see a boogeyman similar movie, and instead i watched a drama with some meaningless thriller spots.<br /><br />3 out of 10 just for the well playing parents & descent dialogs. as for the shots with jake: just ignore them.\""
      ]
     },
     "execution_count": 79,
     "metadata": {},
     "output_type": "execute_result"
    }
   ],
   "source": [
    "text"
   ]
  },
  {
   "cell_type": "code",
   "execution_count": 80,
   "id": "9ce32600",
   "metadata": {
    "ExecuteTime": {
     "end_time": "2023-04-25T06:45:02.313578Z",
     "start_time": "2023-04-25T06:45:01.908531Z"
    }
   },
   "outputs": [],
   "source": [
    "df['review'] = df['review'].apply(removing_HTML_Tags)"
   ]
  },
  {
   "cell_type": "code",
   "execution_count": 81,
   "id": "3a2cb037",
   "metadata": {
    "ExecuteTime": {
     "end_time": "2023-04-25T06:45:02.345577Z",
     "start_time": "2023-04-25T06:45:02.320580Z"
    }
   },
   "outputs": [
    {
     "data": {
      "text/plain": [
       "0        one of the other reviewers has mentioned that ...\n",
       "1        a wonderful little production. the filming tec...\n",
       "2        i thought this was a wonderful way to spend ti...\n",
       "3        basically there's a family where a little boy ...\n",
       "4        petter mattei's \"love in the time of money\" is...\n",
       "                               ...                        \n",
       "49995    i thought this movie did a down right good job...\n",
       "49996    bad plot, bad dialogue, bad acting, idiotic di...\n",
       "49997    i am a catholic taught in parochial elementary...\n",
       "49998    i'm going to have to disagree with the previou...\n",
       "49999    no one expects the star trek movies to be high...\n",
       "Name: review, Length: 50000, dtype: object"
      ]
     },
     "execution_count": 81,
     "metadata": {},
     "output_type": "execute_result"
    }
   ],
   "source": [
    "df['review']"
   ]
  },
  {
   "cell_type": "code",
   "execution_count": 82,
   "id": "99eafdd6",
   "metadata": {
    "ExecuteTime": {
     "end_time": "2023-04-25T06:45:02.378580Z",
     "start_time": "2023-04-25T06:45:02.349578Z"
    }
   },
   "outputs": [
    {
     "data": {
      "text/html": [
       "<div>\n",
       "<style scoped>\n",
       "    .dataframe tbody tr th:only-of-type {\n",
       "        vertical-align: middle;\n",
       "    }\n",
       "\n",
       "    .dataframe tbody tr th {\n",
       "        vertical-align: top;\n",
       "    }\n",
       "\n",
       "    .dataframe thead th {\n",
       "        text-align: right;\n",
       "    }\n",
       "</style>\n",
       "<table border=\"1\" class=\"dataframe\">\n",
       "  <thead>\n",
       "    <tr style=\"text-align: right;\">\n",
       "      <th></th>\n",
       "      <th>review</th>\n",
       "      <th>sentiment</th>\n",
       "    </tr>\n",
       "  </thead>\n",
       "  <tbody>\n",
       "    <tr>\n",
       "      <th>0</th>\n",
       "      <td>one of the other reviewers has mentioned that ...</td>\n",
       "      <td>positive</td>\n",
       "    </tr>\n",
       "    <tr>\n",
       "      <th>1</th>\n",
       "      <td>a wonderful little production. the filming tec...</td>\n",
       "      <td>positive</td>\n",
       "    </tr>\n",
       "    <tr>\n",
       "      <th>2</th>\n",
       "      <td>i thought this was a wonderful way to spend ti...</td>\n",
       "      <td>positive</td>\n",
       "    </tr>\n",
       "    <tr>\n",
       "      <th>3</th>\n",
       "      <td>basically there's a family where a little boy ...</td>\n",
       "      <td>negative</td>\n",
       "    </tr>\n",
       "    <tr>\n",
       "      <th>4</th>\n",
       "      <td>petter mattei's \"love in the time of money\" is...</td>\n",
       "      <td>positive</td>\n",
       "    </tr>\n",
       "  </tbody>\n",
       "</table>\n",
       "</div>"
      ],
      "text/plain": [
       "                                              review sentiment\n",
       "0  one of the other reviewers has mentioned that ...  positive\n",
       "1  a wonderful little production. the filming tec...  positive\n",
       "2  i thought this was a wonderful way to spend ti...  positive\n",
       "3  basically there's a family where a little boy ...  negative\n",
       "4  petter mattei's \"love in the time of money\" is...  positive"
      ]
     },
     "execution_count": 82,
     "metadata": {},
     "output_type": "execute_result"
    }
   ],
   "source": [
    "df.head()"
   ]
  },
  {
   "cell_type": "markdown",
   "id": "7567aeaf",
   "metadata": {},
   "source": [
    "## Removing url"
   ]
  },
  {
   "cell_type": "code",
   "execution_count": 83,
   "id": "107e063e",
   "metadata": {
    "ExecuteTime": {
     "end_time": "2023-04-25T06:45:02.409578Z",
     "start_time": "2023-04-25T06:45:02.387580Z"
    }
   },
   "outputs": [
    {
     "data": {
      "text/plain": [
       "'I have a long text and I want to create a link within the document to a particular paragraph (for example write something like \"as shown here\" where clicking on  \"here\" will take the reader to that paragraph).'"
      ]
     },
     "execution_count": 83,
     "metadata": {},
     "output_type": "execute_result"
    }
   ],
   "source": [
    "Text = 'I have a long text and I want to create a link within the document to a particular paragraph (for example write something like \"as shown here\" where clicking on https://tex.stackexchange.com/questions/280462/link-to-arbitrary-part-of-text \"here\" will take the reader to that paragraph).'\n",
    "\n",
    "\n",
    "def remove_url(Text):\n",
    "    pattern = re.compile(r'https?:\\//\\S+|www\\/\\s+')\n",
    "    return pattern.sub(r'', Text)\n",
    "remove_url(Text)"
   ]
  },
  {
   "cell_type": "markdown",
   "id": "be455c3e",
   "metadata": {},
   "source": [
    "## Removing punctuation"
   ]
  },
  {
   "cell_type": "code",
   "execution_count": 84,
   "id": "ae60e430",
   "metadata": {
    "ExecuteTime": {
     "end_time": "2023-04-25T06:45:02.428579Z",
     "start_time": "2023-04-25T06:45:02.413578Z"
    }
   },
   "outputs": [
    {
     "data": {
      "text/plain": [
       "'!\"#$%&\\'()*+,-./:;<=>?@[\\\\]^_`{|}~'"
      ]
     },
     "execution_count": 84,
     "metadata": {},
     "output_type": "execute_result"
    }
   ],
   "source": [
    "import string,time\n",
    "string.punctuation"
   ]
  },
  {
   "cell_type": "code",
   "execution_count": 85,
   "id": "e29dcbaa",
   "metadata": {
    "ExecuteTime": {
     "end_time": "2023-04-25T06:45:02.457580Z",
     "start_time": "2023-04-25T06:45:02.444578Z"
    }
   },
   "outputs": [],
   "source": [
    "exclude = string.punctuation"
   ]
  },
  {
   "cell_type": "code",
   "execution_count": 86,
   "id": "2566707f",
   "metadata": {
    "ExecuteTime": {
     "end_time": "2023-04-25T06:45:02.489578Z",
     "start_time": "2023-04-25T06:45:02.467580Z"
    }
   },
   "outputs": [],
   "source": [
    "def remove_punc(text):\n",
    "    for char in exclude:\n",
    "        text = text.replace(char,'')\n",
    "    return text"
   ]
  },
  {
   "cell_type": "code",
   "execution_count": 87,
   "id": "f0d10864",
   "metadata": {
    "ExecuteTime": {
     "end_time": "2023-04-25T06:45:02.551623Z",
     "start_time": "2023-04-25T06:45:02.499580Z"
    }
   },
   "outputs": [],
   "source": [
    "text = df['review'][3]"
   ]
  },
  {
   "cell_type": "code",
   "execution_count": 88,
   "id": "39da2a2e",
   "metadata": {
    "ExecuteTime": {
     "end_time": "2023-04-25T06:45:02.570624Z",
     "start_time": "2023-04-25T06:45:02.555624Z"
    }
   },
   "outputs": [
    {
     "data": {
      "text/plain": [
       "'basically theres a family where a little boy jake thinks theres a zombie in his closet  his parents are fighting all the timethis movie is slower than a soap opera and suddenly jake decides to become rambo and kill the zombieok first of all when youre going to make a film you must decide if its a thriller or a drama as a drama the movie is watchable parents are divorcing  arguing like in real life and then we have jake with his closet which totally ruins all the film i expected to see a boogeyman similar movie and instead i watched a drama with some meaningless thriller spots3 out of 10 just for the well playing parents  descent dialogs as for the shots with jake just ignore them'"
      ]
     },
     "execution_count": 88,
     "metadata": {},
     "output_type": "execute_result"
    }
   ],
   "source": [
    "remove_punc(text)"
   ]
  },
  {
   "cell_type": "code",
   "execution_count": 89,
   "id": "ef377e63",
   "metadata": {
    "ExecuteTime": {
     "end_time": "2023-04-25T06:45:05.026773Z",
     "start_time": "2023-04-25T06:45:02.586626Z"
    }
   },
   "outputs": [],
   "source": [
    "df['review'] = df['review'].apply(remove_punc)"
   ]
  },
  {
   "cell_type": "code",
   "execution_count": 90,
   "id": "e962fa2e",
   "metadata": {
    "ExecuteTime": {
     "end_time": "2023-04-25T06:45:05.088754Z",
     "start_time": "2023-04-25T06:45:05.029755Z"
    }
   },
   "outputs": [
    {
     "data": {
      "text/plain": [
       "0        one of the other reviewers has mentioned that ...\n",
       "1        a wonderful little production the filming tech...\n",
       "2        i thought this was a wonderful way to spend ti...\n",
       "3        basically theres a family where a little boy j...\n",
       "4        petter matteis love in the time of money is a ...\n",
       "                               ...                        \n",
       "49995    i thought this movie did a down right good job...\n",
       "49996    bad plot bad dialogue bad acting idiotic direc...\n",
       "49997    i am a catholic taught in parochial elementary...\n",
       "49998    im going to have to disagree with the previous...\n",
       "49999    no one expects the star trek movies to be high...\n",
       "Name: review, Length: 50000, dtype: object"
      ]
     },
     "execution_count": 90,
     "metadata": {},
     "output_type": "execute_result"
    }
   ],
   "source": [
    "df['review']"
   ]
  },
  {
   "cell_type": "code",
   "execution_count": 91,
   "id": "114443e6",
   "metadata": {
    "ExecuteTime": {
     "end_time": "2023-04-25T06:45:05.119755Z",
     "start_time": "2023-04-25T06:45:05.098757Z"
    }
   },
   "outputs": [],
   "source": [
    "def remove_punc1(text):\n",
    "    return text.translate(str.maketrans('', '', exclude))"
   ]
  },
  {
   "cell_type": "code",
   "execution_count": 92,
   "id": "c73a52bb",
   "metadata": {
    "ExecuteTime": {
     "end_time": "2023-04-25T06:45:07.167784Z",
     "start_time": "2023-04-25T06:45:05.123755Z"
    }
   },
   "outputs": [],
   "source": [
    "df['review'] = df['review'].apply(remove_punc1)"
   ]
  },
  {
   "cell_type": "code",
   "execution_count": 93,
   "id": "16b88213",
   "metadata": {
    "ExecuteTime": {
     "end_time": "2023-04-25T06:45:07.202784Z",
     "start_time": "2023-04-25T06:45:07.170785Z"
    }
   },
   "outputs": [
    {
     "data": {
      "text/plain": [
       "0        one of the other reviewers has mentioned that ...\n",
       "1        a wonderful little production the filming tech...\n",
       "2        i thought this was a wonderful way to spend ti...\n",
       "3        basically theres a family where a little boy j...\n",
       "4        petter matteis love in the time of money is a ...\n",
       "                               ...                        \n",
       "49995    i thought this movie did a down right good job...\n",
       "49996    bad plot bad dialogue bad acting idiotic direc...\n",
       "49997    i am a catholic taught in parochial elementary...\n",
       "49998    im going to have to disagree with the previous...\n",
       "49999    no one expects the star trek movies to be high...\n",
       "Name: review, Length: 50000, dtype: object"
      ]
     },
     "execution_count": 93,
     "metadata": {},
     "output_type": "execute_result"
    }
   ],
   "source": [
    "df['review']"
   ]
  },
  {
   "cell_type": "markdown",
   "id": "b29bc200",
   "metadata": {},
   "source": [
    "## Chat Words Treatment"
   ]
  },
  {
   "cell_type": "code",
   "execution_count": 94,
   "id": "1d9ef2c5",
   "metadata": {
    "ExecuteTime": {
     "end_time": "2023-04-25T06:45:07.231784Z",
     "start_time": "2023-04-25T06:45:07.208785Z"
    }
   },
   "outputs": [],
   "source": [
    "chat_words_str = \"\"\"\n",
    "AFAIK=As Far As I Know\n",
    "AFK=Away From Keyboard\n",
    "ASAP=As Soon As Possible\n",
    "ATK=At The Keyboard\n",
    "ATM=At The Moment\n",
    "A3=Anytime, Anywhere, Anyplace\n",
    "BAK=Back At Keyboard\n",
    "BBL=Be Back Later\n",
    "BBS=Be Back Soon\n",
    "BFN=Bye For Now\n",
    "B4N=Bye For Now\n",
    "BRB=Be Right Back\n",
    "BRT=Be Right There\n",
    "BTW=By The Way\n",
    "B4=Before\n",
    "B4N=Bye For Now\n",
    "CU=See You\n",
    "CUL8R=See You Later\n",
    "CYA=See You\n",
    "FAQ=Frequently Asked Questions\n",
    "FC=Fingers Crossed\n",
    "FWIW=For What It's Worth\n",
    "FYI=For Your Information\n",
    "GAL=Get A Life\n",
    "GG=Good Game\n",
    "GN=Good Night\n",
    "GMTA=Great Minds Think Alike\n",
    "GR8=Great!\n",
    "G9=Genius\n",
    "IC=I See\n",
    "ICQ=I Seek you (also a chat program)\n",
    "ILU=ILU: I Love You\n",
    "IMHO=In My Honest/Humble Opinion\n",
    "IMO=In My Opinion\n",
    "IOW=In Other Words\n",
    "IRL=In Real Life\n",
    "KISS=Keep It Simple, Stupid\n",
    "LDR=Long Distance Relationship\n",
    "LMAO=Laugh My A.. Off\n",
    "LOL=Laughing Out Loud\n",
    "LTNS=Long Time No See\n",
    "L8R=Later\n",
    "MTE=My Thoughts Exactly\n",
    "M8=Mate\n",
    "NRN=No Reply Necessary\n",
    "OIC=Oh I See\n",
    "PITA=Pain In The A..\n",
    "PRT=Party\n",
    "PRW=Parents Are Watching\n",
    "ROFL=Rolling On The Floor Laughing\n",
    "ROFLOL=Rolling On The Floor Laughing Out Loud\n",
    "ROTFLMAO=Rolling On The Floor Laughing My A.. Off\n",
    "SK8=Skate\n",
    "STATS=Your sex and age\n",
    "ASL=Age, Sex, Location\n",
    "THX=Thank You\n",
    "TTFN=Ta-Ta For Now!\n",
    "TTYL=Talk To You Later\n",
    "U=You\n",
    "U2=You Too\n",
    "U4E=Yours For Ever\n",
    "WB=Welcome Back\n",
    "WTF=What The F...\n",
    "WTG=Way To Go!\n",
    "WUF=Where Are You From?\n",
    "W8=Wait...\n",
    "7K=Sick:-D Laugher\n",
    "\"\"\""
   ]
  },
  {
   "cell_type": "code",
   "execution_count": 95,
   "id": "48638839",
   "metadata": {
    "ExecuteTime": {
     "end_time": "2023-04-25T06:45:07.263786Z",
     "start_time": "2023-04-25T06:45:07.243785Z"
    }
   },
   "outputs": [],
   "source": [
    "chat_words_list = []\n",
    "chat_words_map_dict = {}\n",
    "for line in chat_words_str.split(\"\\n\"):\n",
    "    if line != \"\":\n",
    "        cw = line.split(\"=\")[0]\n",
    "        cw_expanded = line.split(\"=\")[1]\n",
    "        chat_words_list.append(cw)\n",
    "        chat_words_map_dict[cw] = cw_expanded\n",
    "chat_words_list = set(chat_words_list)"
   ]
  },
  {
   "cell_type": "code",
   "execution_count": 96,
   "id": "9fe98982",
   "metadata": {
    "ExecuteTime": {
     "end_time": "2023-04-25T06:45:07.295784Z",
     "start_time": "2023-04-25T06:45:07.272786Z"
    }
   },
   "outputs": [],
   "source": [
    "def chat_words_conversion(text):\n",
    "    new_text = []\n",
    "    for w in text.split():\n",
    "        if w.upper() in chat_words_list:\n",
    "            new_text.append(chat_words_map_dict[w.upper()])\n",
    "        else:\n",
    "            new_text.append(w)\n",
    "    return \" \".join(new_text)"
   ]
  },
  {
   "cell_type": "code",
   "execution_count": 97,
   "id": "d6e213c2",
   "metadata": {
    "ExecuteTime": {
     "end_time": "2023-04-25T06:45:07.342785Z",
     "start_time": "2023-04-25T06:45:07.313786Z"
    }
   },
   "outputs": [
    {
     "data": {
      "text/plain": [
       "'See You'"
      ]
     },
     "execution_count": 97,
     "metadata": {},
     "output_type": "execute_result"
    }
   ],
   "source": [
    "chat_words_conversion('CYA')"
   ]
  },
  {
   "cell_type": "code",
   "execution_count": 98,
   "id": "271f72be",
   "metadata": {
    "ExecuteTime": {
     "end_time": "2023-04-25T06:45:07.373784Z",
     "start_time": "2023-04-25T06:45:07.347785Z"
    }
   },
   "outputs": [
    {
     "data": {
      "text/plain": [
       "'As Far As I Know'"
      ]
     },
     "execution_count": 98,
     "metadata": {},
     "output_type": "execute_result"
    }
   ],
   "source": [
    "chat_words_conversion('AFAIK')"
   ]
  },
  {
   "cell_type": "markdown",
   "id": "ba2869bb",
   "metadata": {},
   "source": [
    "## Spelling Correction"
   ]
  },
  {
   "cell_type": "code",
   "execution_count": 99,
   "id": "6f1cf258",
   "metadata": {
    "ExecuteTime": {
     "end_time": "2023-04-25T06:45:07.389785Z",
     "start_time": "2023-04-25T06:45:07.379784Z"
    }
   },
   "outputs": [],
   "source": [
    "from textblob import TextBlob"
   ]
  },
  {
   "cell_type": "code",
   "execution_count": 100,
   "id": "b204a143",
   "metadata": {
    "ExecuteTime": {
     "end_time": "2023-04-25T06:45:07.421783Z",
     "start_time": "2023-04-25T06:45:07.394784Z"
    }
   },
   "outputs": [
    {
     "data": {
      "text/plain": [
       "'certain conditions during several generations are modified in the same manner.'"
      ]
     },
     "execution_count": 100,
     "metadata": {},
     "output_type": "execute_result"
    }
   ],
   "source": [
    "incorrect_text = 'ceertain conditionas duriing seveal ggenerations aree moodified in the saame maner.'\n",
    "\n",
    "textBlb = TextBlob(incorrect_text)\n",
    "\n",
    "textBlb.correct().string"
   ]
  },
  {
   "cell_type": "markdown",
   "id": "92628bf5",
   "metadata": {},
   "source": [
    "## Stops words Removal"
   ]
  },
  {
   "cell_type": "code",
   "execution_count": 101,
   "id": "c5dac4cf",
   "metadata": {
    "ExecuteTime": {
     "end_time": "2023-04-25T06:45:07.437786Z",
     "start_time": "2023-04-25T06:45:07.430785Z"
    }
   },
   "outputs": [],
   "source": [
    "from nltk.corpus import stopwords"
   ]
  },
  {
   "cell_type": "code",
   "execution_count": 102,
   "id": "071c5355",
   "metadata": {
    "ExecuteTime": {
     "end_time": "2023-04-25T06:45:07.469786Z",
     "start_time": "2023-04-25T06:45:07.441784Z"
    }
   },
   "outputs": [
    {
     "data": {
      "text/plain": [
       "['i',\n",
       " 'me',\n",
       " 'my',\n",
       " 'myself',\n",
       " 'we',\n",
       " 'our',\n",
       " 'ours',\n",
       " 'ourselves',\n",
       " 'you',\n",
       " \"you're\",\n",
       " \"you've\",\n",
       " \"you'll\",\n",
       " \"you'd\",\n",
       " 'your',\n",
       " 'yours',\n",
       " 'yourself',\n",
       " 'yourselves',\n",
       " 'he',\n",
       " 'him',\n",
       " 'his',\n",
       " 'himself',\n",
       " 'she',\n",
       " \"she's\",\n",
       " 'her',\n",
       " 'hers',\n",
       " 'herself',\n",
       " 'it',\n",
       " \"it's\",\n",
       " 'its',\n",
       " 'itself',\n",
       " 'they',\n",
       " 'them',\n",
       " 'their',\n",
       " 'theirs',\n",
       " 'themselves',\n",
       " 'what',\n",
       " 'which',\n",
       " 'who',\n",
       " 'whom',\n",
       " 'this',\n",
       " 'that',\n",
       " \"that'll\",\n",
       " 'these',\n",
       " 'those',\n",
       " 'am',\n",
       " 'is',\n",
       " 'are',\n",
       " 'was',\n",
       " 'were',\n",
       " 'be',\n",
       " 'been',\n",
       " 'being',\n",
       " 'have',\n",
       " 'has',\n",
       " 'had',\n",
       " 'having',\n",
       " 'do',\n",
       " 'does',\n",
       " 'did',\n",
       " 'doing',\n",
       " 'a',\n",
       " 'an',\n",
       " 'the',\n",
       " 'and',\n",
       " 'but',\n",
       " 'if',\n",
       " 'or',\n",
       " 'because',\n",
       " 'as',\n",
       " 'until',\n",
       " 'while',\n",
       " 'of',\n",
       " 'at',\n",
       " 'by',\n",
       " 'for',\n",
       " 'with',\n",
       " 'about',\n",
       " 'against',\n",
       " 'between',\n",
       " 'into',\n",
       " 'through',\n",
       " 'during',\n",
       " 'before',\n",
       " 'after',\n",
       " 'above',\n",
       " 'below',\n",
       " 'to',\n",
       " 'from',\n",
       " 'up',\n",
       " 'down',\n",
       " 'in',\n",
       " 'out',\n",
       " 'on',\n",
       " 'off',\n",
       " 'over',\n",
       " 'under',\n",
       " 'again',\n",
       " 'further',\n",
       " 'then',\n",
       " 'once',\n",
       " 'here',\n",
       " 'there',\n",
       " 'when',\n",
       " 'where',\n",
       " 'why',\n",
       " 'how',\n",
       " 'all',\n",
       " 'any',\n",
       " 'both',\n",
       " 'each',\n",
       " 'few',\n",
       " 'more',\n",
       " 'most',\n",
       " 'other',\n",
       " 'some',\n",
       " 'such',\n",
       " 'no',\n",
       " 'nor',\n",
       " 'not',\n",
       " 'only',\n",
       " 'own',\n",
       " 'same',\n",
       " 'so',\n",
       " 'than',\n",
       " 'too',\n",
       " 'very',\n",
       " 's',\n",
       " 't',\n",
       " 'can',\n",
       " 'will',\n",
       " 'just',\n",
       " 'don',\n",
       " \"don't\",\n",
       " 'should',\n",
       " \"should've\",\n",
       " 'now',\n",
       " 'd',\n",
       " 'll',\n",
       " 'm',\n",
       " 'o',\n",
       " 're',\n",
       " 've',\n",
       " 'y',\n",
       " 'ain',\n",
       " 'aren',\n",
       " \"aren't\",\n",
       " 'couldn',\n",
       " \"couldn't\",\n",
       " 'didn',\n",
       " \"didn't\",\n",
       " 'doesn',\n",
       " \"doesn't\",\n",
       " 'hadn',\n",
       " \"hadn't\",\n",
       " 'hasn',\n",
       " \"hasn't\",\n",
       " 'haven',\n",
       " \"haven't\",\n",
       " 'isn',\n",
       " \"isn't\",\n",
       " 'ma',\n",
       " 'mightn',\n",
       " \"mightn't\",\n",
       " 'mustn',\n",
       " \"mustn't\",\n",
       " 'needn',\n",
       " \"needn't\",\n",
       " 'shan',\n",
       " \"shan't\",\n",
       " 'shouldn',\n",
       " \"shouldn't\",\n",
       " 'wasn',\n",
       " \"wasn't\",\n",
       " 'weren',\n",
       " \"weren't\",\n",
       " 'won',\n",
       " \"won't\",\n",
       " 'wouldn',\n",
       " \"wouldn't\"]"
      ]
     },
     "execution_count": 102,
     "metadata": {},
     "output_type": "execute_result"
    }
   ],
   "source": [
    "stopwords.words('english')\n"
   ]
  },
  {
   "cell_type": "code",
   "execution_count": 103,
   "id": "286d945e",
   "metadata": {
    "ExecuteTime": {
     "end_time": "2023-04-25T06:45:07.485784Z",
     "start_time": "2023-04-25T06:45:07.473784Z"
    }
   },
   "outputs": [],
   "source": [
    "def remove_stopwords(text):\n",
    "    new_text = []\n",
    "    \n",
    "    for word in text.split():\n",
    "        if word in stopwords.words('english'):\n",
    "            new_text.append('')\n",
    "        else:\n",
    "            new_text.append(word)\n",
    "    x = new_text[:]\n",
    "    new_text.clear()\n",
    "    return \" \".join(x)"
   ]
  },
  {
   "cell_type": "code",
   "execution_count": 104,
   "id": "709c5eed",
   "metadata": {
    "ExecuteTime": {
     "end_time": "2023-04-25T06:45:07.501784Z",
     "start_time": "2023-04-25T06:45:07.489784Z"
    }
   },
   "outputs": [],
   "source": [
    "text = \"Alfred Shout (1882–1915) was a New Zealand–born soldier and posthumous Australian recipient of the Victoria Cross, the highest decoration for combat gallantry awarded to members of the British and Commonwealth armed forces. It was bestowed for his actions at Lone Pine in August 1915, during the Gallipoli Campaign of the First World War. Born in Wellington, Shout had served in the Second Boer War, where he was mentioned in despatches. He immigrated to Sydney in 1907 and was active in the part-time Citizens Forces. In August 1914, he joined the Australian Imperial Force and was appointed a lieutenant in the 1st Battalion. He took part in the Anzac landings at Gallipoli on 25 April 1915. For his leadership during the invasion, Shout was awarded the Military Cross and later mentioned in despatches. Shout's three gallantry awards at Gallipoli made him the most highly decorated member of the Australian force in the campaign.\""
   ]
  },
  {
   "cell_type": "code",
   "execution_count": 105,
   "id": "026b60e9",
   "metadata": {
    "ExecuteTime": {
     "end_time": "2023-04-25T06:45:07.611784Z",
     "start_time": "2023-04-25T06:45:07.505785Z"
    }
   },
   "outputs": [
    {
     "data": {
      "text/plain": [
       "\"Alfred Shout (1882–1915)   New Zealand–born soldier  posthumous Australian recipient   Victoria Cross,  highest decoration  combat gallantry awarded  members   British  Commonwealth armed forces. It  bestowed   actions  Lone Pine  August 1915,   Gallipoli Campaign   First World War. Born  Wellington, Shout  served   Second Boer War,    mentioned  despatches. He immigrated  Sydney  1907   active   part-time Citizens Forces. In August 1914,  joined  Australian Imperial Force   appointed  lieutenant   1st Battalion. He took part   Anzac landings  Gallipoli  25 April 1915. For  leadership   invasion, Shout  awarded  Military Cross  later mentioned  despatches. Shout's three gallantry awards  Gallipoli made    highly decorated member   Australian force   campaign.\""
      ]
     },
     "execution_count": 105,
     "metadata": {},
     "output_type": "execute_result"
    }
   ],
   "source": [
    "remove_stopwords(text)"
   ]
  },
  {
   "cell_type": "code",
   "execution_count": 106,
   "id": "e27d3852",
   "metadata": {
    "ExecuteTime": {
     "end_time": "2023-04-25T06:45:07.627785Z",
     "start_time": "2023-04-25T06:45:07.618785Z"
    }
   },
   "outputs": [],
   "source": [
    "#df['review'].apply(remove_stopwords)"
   ]
  },
  {
   "cell_type": "code",
   "execution_count": 107,
   "id": "3d548939",
   "metadata": {
    "ExecuteTime": {
     "end_time": "2023-04-25T06:45:07.698784Z",
     "start_time": "2023-04-25T06:45:07.636785Z"
    }
   },
   "outputs": [],
   "source": [
    "#df.head()"
   ]
  },
  {
   "cell_type": "markdown",
   "id": "2dd13641",
   "metadata": {
    "ExecuteTime": {
     "start_time": "2023-04-25T05:17:44.342Z"
    }
   },
   "source": [
    "# Handling Emojis"
   ]
  },
  {
   "cell_type": "markdown",
   "id": "70684949",
   "metadata": {},
   "source": [
    "### Remove Emoji"
   ]
  },
  {
   "cell_type": "code",
   "execution_count": 108,
   "id": "6fdb18af",
   "metadata": {
    "ExecuteTime": {
     "end_time": "2023-04-25T06:45:07.721784Z",
     "start_time": "2023-04-25T06:45:07.704785Z"
    }
   },
   "outputs": [],
   "source": [
    "import re\n",
    "def remove_emoji(text):\n",
    "    emoji_pattern = re.compile(\"[\"\n",
    "                           u\"\\U0001F600-\\U0001F64F\"  # emoticons\n",
    "                           u\"\\U0001F300-\\U0001F5FF\"  # symbols & pictographs\n",
    "                           u\"\\U0001F680-\\U0001F6FF\"  # transport & map symbols\n",
    "                           u\"\\U0001F1E0-\\U0001F1FF\"  # flags (iOS)\n",
    "                           u\"\\U00002702-\\U000027B0\"\n",
    "                           u\"\\U000024C2-\\U0001F251\"\n",
    "                           \"]+\", flags=re.UNICODE)\n",
    "    return emoji_pattern.sub(r'', text)"
   ]
  },
  {
   "cell_type": "code",
   "execution_count": 109,
   "id": "cc609443",
   "metadata": {
    "ExecuteTime": {
     "end_time": "2023-04-25T06:45:07.737786Z",
     "start_time": "2023-04-25T06:45:07.725785Z"
    }
   },
   "outputs": [
    {
     "data": {
      "text/plain": [
       "'Loved the movie. It was '"
      ]
     },
     "execution_count": 109,
     "metadata": {},
     "output_type": "execute_result"
    }
   ],
   "source": [
    "remove_emoji(\"Loved the movie. It was 😘😘\")"
   ]
  },
  {
   "cell_type": "markdown",
   "id": "c6f5de52",
   "metadata": {
    "ExecuteTime": {
     "end_time": "2023-04-25T05:45:39.443526Z",
     "start_time": "2023-04-25T05:45:39.407526Z"
    }
   },
   "source": [
    "import emoji"
   ]
  },
  {
   "cell_type": "code",
   "execution_count": 110,
   "id": "fbb258b5",
   "metadata": {
    "ExecuteTime": {
     "end_time": "2023-04-25T06:45:07.752785Z",
     "start_time": "2023-04-25T06:45:07.745784Z"
    }
   },
   "outputs": [
    {
     "name": "stdout",
     "output_type": "stream",
     "text": [
      "Python is :fire:\n"
     ]
    }
   ],
   "source": [
    "print(emoji.demojize('Python is 🔥'))"
   ]
  },
  {
   "cell_type": "markdown",
   "id": "52304e0c",
   "metadata": {},
   "source": [
    "## Handle Emoticons"
   ]
  },
  {
   "cell_type": "markdown",
   "id": "bf078bb1",
   "metadata": {},
   "source": [
    "## Tokenization"
   ]
  },
  {
   "cell_type": "code",
   "execution_count": 111,
   "id": "3af38410",
   "metadata": {
    "ExecuteTime": {
     "end_time": "2023-04-25T06:45:07.884783Z",
     "start_time": "2023-04-25T06:45:07.761785Z"
    }
   },
   "outputs": [
    {
     "data": {
      "text/plain": [
       "['I', 'am', 'going', 'to', 'delhi']"
      ]
     },
     "execution_count": 111,
     "metadata": {},
     "output_type": "execute_result"
    }
   ],
   "source": [
    "sent1 = 'I am going to delhi'\n",
    "sent1.split()"
   ]
  },
  {
   "cell_type": "code",
   "execution_count": 112,
   "id": "dd2146e7",
   "metadata": {
    "ExecuteTime": {
     "end_time": "2023-04-25T06:45:07.911786Z",
     "start_time": "2023-04-25T06:45:07.888784Z"
    }
   },
   "outputs": [
    {
     "data": {
      "text/plain": [
       "['I am going to delhi',\n",
       " ' I will stay there for 3 days',\n",
       " \" Let's hope the trip to be great\"]"
      ]
     },
     "execution_count": 112,
     "metadata": {},
     "output_type": "execute_result"
    }
   ],
   "source": [
    "sent2 = 'I am going to delhi. I will stay there for 3 days. Let\\'s hope the trip to be great'\n",
    "sent2.split('.')"
   ]
  },
  {
   "cell_type": "code",
   "execution_count": 113,
   "id": "a152c293",
   "metadata": {
    "ExecuteTime": {
     "end_time": "2023-04-25T06:45:07.943783Z",
     "start_time": "2023-04-25T06:45:07.919785Z"
    }
   },
   "outputs": [
    {
     "data": {
      "text/plain": [
       "[['I', 'am', 'going', 'to', 'delhi'],\n",
       " ['I', 'will', 'stay', 'there', 'for', '3', 'days'],\n",
       " [\"Let's\", 'hope', 'the', 'trip', 'to', 'be', 'great']]"
      ]
     },
     "execution_count": 113,
     "metadata": {},
     "output_type": "execute_result"
    }
   ],
   "source": [
    "sent_lst = []\n",
    "for sent in sent2.split('.'):\n",
    "    sent_lst.append(sent.split())\n",
    "sent_lst"
   ]
  },
  {
   "cell_type": "code",
   "execution_count": 114,
   "id": "15366536",
   "metadata": {
    "ExecuteTime": {
     "end_time": "2023-04-25T06:45:07.958784Z",
     "start_time": "2023-04-25T06:45:07.947785Z"
    }
   },
   "outputs": [
    {
     "data": {
      "text/plain": [
       "['I', 'am', 'going', 'to', 'delhi!']"
      ]
     },
     "execution_count": 114,
     "metadata": {},
     "output_type": "execute_result"
    }
   ],
   "source": [
    "sent3 = 'I am going to delhi!'\n",
    "sent3.split()"
   ]
  },
  {
   "cell_type": "code",
   "execution_count": 115,
   "id": "3df440b3",
   "metadata": {
    "ExecuteTime": {
     "end_time": "2023-04-25T06:45:07.974783Z",
     "start_time": "2023-04-25T06:45:07.962784Z"
    }
   },
   "outputs": [
    {
     "data": {
      "text/plain": [
       "['Where do think I should go? I have 3 day holiday']"
      ]
     },
     "execution_count": 115,
     "metadata": {},
     "output_type": "execute_result"
    }
   ],
   "source": [
    "sent4 = 'Where do think I should go? I have 3 day holiday'\n",
    "sent4.split('.')"
   ]
  },
  {
   "cell_type": "markdown",
   "id": "31c98139",
   "metadata": {},
   "source": [
    "## 2. Regular Expression"
   ]
  },
  {
   "cell_type": "code",
   "execution_count": 116,
   "id": "571680d1",
   "metadata": {
    "ExecuteTime": {
     "end_time": "2023-04-25T06:45:08.005785Z",
     "start_time": "2023-04-25T06:45:07.991787Z"
    }
   },
   "outputs": [
    {
     "data": {
      "text/plain": [
       "['I', 'am', 'going', 'to', 'delhi']"
      ]
     },
     "execution_count": 116,
     "metadata": {},
     "output_type": "execute_result"
    }
   ],
   "source": [
    "import re\n",
    "sent3 = 'I am going to delhi!'\n",
    "tokens = re.findall(\"[\\w']+\", sent3)\n",
    "tokens"
   ]
  },
  {
   "cell_type": "code",
   "execution_count": 117,
   "id": "69459281",
   "metadata": {
    "ExecuteTime": {
     "end_time": "2023-04-25T06:45:08.021784Z",
     "start_time": "2023-04-25T06:45:08.009785Z"
    }
   },
   "outputs": [
    {
     "data": {
      "text/plain": [
       "['Lorem Ipsum is simply dummy text of the printing and typesetting industry',\n",
       " \"\\nLorem Ipsum has been the industry's standard dummy text ever since the 1500s, \\nwhen an unknown printer took a galley of type and scrambled it to make a type specimen book.\"]"
      ]
     },
     "execution_count": 117,
     "metadata": {},
     "output_type": "execute_result"
    }
   ],
   "source": [
    "text = \"\"\"Lorem Ipsum is simply dummy text of the printing and typesetting industry? \n",
    "Lorem Ipsum has been the industry's standard dummy text ever since the 1500s, \n",
    "when an unknown printer took a galley of type and scrambled it to make a type specimen book.\"\"\"\n",
    "sentences = re.compile('[.!?] ').split(text)\n",
    "sentences"
   ]
  },
  {
   "cell_type": "markdown",
   "id": "93ec90ea",
   "metadata": {},
   "source": [
    "## 3.NLTK"
   ]
  },
  {
   "cell_type": "code",
   "execution_count": 118,
   "id": "f60a41de",
   "metadata": {
    "ExecuteTime": {
     "end_time": "2023-04-25T06:45:08.072783Z",
     "start_time": "2023-04-25T06:45:08.029785Z"
    }
   },
   "outputs": [],
   "source": [
    "from nltk.tokenize import word_tokenize,sent_tokenize"
   ]
  },
  {
   "cell_type": "code",
   "execution_count": 119,
   "id": "07789795",
   "metadata": {
    "ExecuteTime": {
     "end_time": "2023-04-25T06:45:08.099788Z",
     "start_time": "2023-04-25T06:45:08.076784Z"
    }
   },
   "outputs": [
    {
     "data": {
      "text/plain": [
       "['Hi', '!', 'iam', 'tejas', '.']"
      ]
     },
     "execution_count": 119,
     "metadata": {},
     "output_type": "execute_result"
    }
   ],
   "source": [
    "sent = 'Hi! iam tejas.'\n",
    "word_tokenize(sent)"
   ]
  },
  {
   "cell_type": "code",
   "execution_count": 120,
   "id": "a7c8337e",
   "metadata": {
    "ExecuteTime": {
     "end_time": "2023-04-25T06:45:08.131784Z",
     "start_time": "2023-04-25T06:45:08.104784Z"
    }
   },
   "outputs": [
    {
     "data": {
      "text/plain": [
       "['Lorem Ipsum is simply dummy text of the printing and typesetting industry?',\n",
       " \"Lorem Ipsum has been the industry's standard dummy text ever since the 1500s, \\nwhen an unknown printer took a galley of type and scrambled it to make a type specimen book.\"]"
      ]
     },
     "execution_count": 120,
     "metadata": {},
     "output_type": "execute_result"
    }
   ],
   "source": [
    "text = \"\"\"Lorem Ipsum is simply dummy text of the printing and typesetting industry? \n",
    "Lorem Ipsum has been the industry's standard dummy text ever since the 1500s, \n",
    "when an unknown printer took a galley of type and scrambled it to make a type specimen book.\"\"\"\n",
    "\n",
    "sent_tokenize(text)"
   ]
  },
  {
   "cell_type": "code",
   "execution_count": 121,
   "id": "627ce8dd",
   "metadata": {
    "ExecuteTime": {
     "end_time": "2023-04-25T06:45:08.146785Z",
     "start_time": "2023-04-25T06:45:08.136784Z"
    }
   },
   "outputs": [
    {
     "data": {
      "text/plain": [
       "['I', 'have', 'a', 'Ph.D', 'in', 'A.I']"
      ]
     },
     "execution_count": 121,
     "metadata": {},
     "output_type": "execute_result"
    }
   ],
   "source": [
    "sent5 = 'I have a Ph.D in A.I'\n",
    "sent6 = \"We're here to help! mail us at nks@gmail.com\"\n",
    "sent7 = 'A 5km ride cost $10.50'\n",
    "\n",
    "word_tokenize(sent5)"
   ]
  },
  {
   "cell_type": "code",
   "execution_count": 122,
   "id": "091f8650",
   "metadata": {
    "ExecuteTime": {
     "end_time": "2023-04-25T06:45:08.162786Z",
     "start_time": "2023-04-25T06:45:08.150784Z"
    }
   },
   "outputs": [
    {
     "data": {
      "text/plain": [
       "['We',\n",
       " \"'re\",\n",
       " 'here',\n",
       " 'to',\n",
       " 'help',\n",
       " '!',\n",
       " 'mail',\n",
       " 'us',\n",
       " 'at',\n",
       " 'nks',\n",
       " '@',\n",
       " 'gmail.com']"
      ]
     },
     "execution_count": 122,
     "metadata": {},
     "output_type": "execute_result"
    }
   ],
   "source": [
    "word_tokenize(sent6)"
   ]
  },
  {
   "cell_type": "code",
   "execution_count": 123,
   "id": "3df4efea",
   "metadata": {
    "ExecuteTime": {
     "end_time": "2023-04-25T06:45:08.177785Z",
     "start_time": "2023-04-25T06:45:08.166784Z"
    }
   },
   "outputs": [
    {
     "data": {
      "text/plain": [
       "['A', '5km', 'ride', 'cost', '$', '10.50']"
      ]
     },
     "execution_count": 123,
     "metadata": {},
     "output_type": "execute_result"
    }
   ],
   "source": [
    "word_tokenize(sent7)"
   ]
  },
  {
   "cell_type": "markdown",
   "id": "f996599a",
   "metadata": {},
   "source": [
    "# 6 Spacy"
   ]
  },
  {
   "cell_type": "code",
   "execution_count": 135,
   "id": "57963aac",
   "metadata": {
    "ExecuteTime": {
     "end_time": "2023-04-25T06:56:52.877270Z",
     "start_time": "2023-04-25T06:56:52.869270Z"
    }
   },
   "outputs": [
    {
     "ename": "SyntaxError",
     "evalue": "invalid syntax (2119417417.py, line 1)",
     "output_type": "error",
     "traceback": [
      "\u001b[1;36m  File \u001b[1;32m\"C:\\Users\\tejas\\AppData\\Local\\Temp\\ipykernel_9064\\2119417417.py\"\u001b[1;36m, line \u001b[1;32m1\u001b[0m\n\u001b[1;33m    pip install -U pip setuptools wheel\u001b[0m\n\u001b[1;37m        ^\u001b[0m\n\u001b[1;31mSyntaxError\u001b[0m\u001b[1;31m:\u001b[0m invalid syntax\n"
     ]
    }
   ],
   "source": [
    "pip install -U pip setuptools wheel\n",
    "pip install -U spacy\n",
    "python -m spacy download en_core_web_sm"
   ]
  },
  {
   "cell_type": "code",
   "execution_count": null,
   "id": "4a97c1d6",
   "metadata": {},
   "outputs": [],
   "source": []
  }
 ],
 "metadata": {
  "kernelspec": {
   "display_name": "Python 3 (ipykernel)",
   "language": "python",
   "name": "python3"
  },
  "language_info": {
   "codemirror_mode": {
    "name": "ipython",
    "version": 3
   },
   "file_extension": ".py",
   "mimetype": "text/x-python",
   "name": "python",
   "nbconvert_exporter": "python",
   "pygments_lexer": "ipython3",
   "version": "3.9.13"
  },
  "varInspector": {
   "cols": {
    "lenName": 16,
    "lenType": 16,
    "lenVar": 40
   },
   "kernels_config": {
    "python": {
     "delete_cmd_postfix": "",
     "delete_cmd_prefix": "del ",
     "library": "var_list.py",
     "varRefreshCmd": "print(var_dic_list())"
    },
    "r": {
     "delete_cmd_postfix": ") ",
     "delete_cmd_prefix": "rm(",
     "library": "var_list.r",
     "varRefreshCmd": "cat(var_dic_list()) "
    }
   },
   "types_to_exclude": [
    "module",
    "function",
    "builtin_function_or_method",
    "instance",
    "_Feature"
   ],
   "window_display": false
  }
 },
 "nbformat": 4,
 "nbformat_minor": 5
}
